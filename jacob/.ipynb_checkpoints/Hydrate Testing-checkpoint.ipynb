{
 "cells": [
  {
   "cell_type": "code",
   "execution_count": 4,
   "id": "a487dca8",
   "metadata": {},
   "outputs": [],
   "source": [
    "import gzip\n",
    "import json\n",
    "import sys\n",
    "import pandas as pd\n",
    "import datetime\n",
    "\n",
    "import tweepy"
   ]
  },
  {
   "cell_type": "markdown",
   "id": "754b580a",
   "metadata": {},
   "source": [
    "Time to write class to hydrate the 15k tweets per month we would like to analyze"
   ]
  },
  {
   "cell_type": "code",
   "execution_count": 6,
   "id": "c76db295",
   "metadata": {},
   "outputs": [],
   "source": [
    "class hydrator:\n",
    "    def __init__(self, csv_file):\n",
    "        self.data = pd.read_csv(csv_file)\n",
    "        self.colnames = self.data.columns\n",
    "    \n",
    "    def init_api(self, key, secret):\n",
    "        auth = tweepy.AppAuthHandler(consumer_key, consumer_secret)\n",
    "        self.api = tweepy.API(auth, retry_count=5, retry_delay=2, wait_on_rate_limit=True)# wait_on_rate_limit_notify=True)\n",
    "    \n",
    "    def hydrate(self):\n",
    "        for i in range(len(self.colnames)):\n",
    "            coldata = self.data.loc[:, self.colnames[i]]\n",
    "            tweet_count = len(coldata)\n",
    "            outname = f'data_testing/hydrator_output/{self.colnames[i]}.txt'\n",
    "            with open(outname, 'w') as f:\n",
    "                for j in range(tweet_count // 100):\n",
    "                    # Catch the last group if it is less than 100 tweets\n",
    "                    end_loc = min((j + 1) * 100, tweet_count)\n",
    "                    ids = list(coldata)[j * 100:end_loc]\n",
    "                    statuses = self.api.lookup_statuses(id=ids, tweet_mode = 'extended')\n",
    "                    for status in statuses:\n",
    "                        json_str = json.dumps(status._json)\n",
    "                        f.write(json_str +'\\n')\n",
    "            f.close()\n",
    "                    \n",
    "            \n",
    "    \n",
    "            \n",
    "            "
   ]
  },
  {
   "cell_type": "code",
   "execution_count": 7,
   "id": "5c32febc",
   "metadata": {},
   "outputs": [
    {
     "name": "stdout",
     "output_type": "stream",
     "text": [
      "2022-04-29 13:10:15.502422\n"
     ]
    },
    {
     "name": "stderr",
     "output_type": "stream",
     "text": [
      "Rate limit reached. Sleeping for: 463\n",
      "Rate limit reached. Sleeping for: 742\n",
      "Rate limit reached. Sleeping for: 706\n",
      "Rate limit reached. Sleeping for: 708\n",
      "Rate limit reached. Sleeping for: 697\n",
      "Rate limit reached. Sleeping for: 693\n"
     ]
    },
    {
     "name": "stdout",
     "output_type": "stream",
     "text": [
      "2022-04-29 14:36:18.177195\n"
     ]
    }
   ],
   "source": [
    "our_tweets = hydrator('data_testing/tweet_ids_15k.csv')\n",
    "\n",
    "consumer_key = 'Api key here'\n",
    "consumer_secret = 'API Secret Here'\n",
    "our_tweets.init_api(consumer_key, consumer_secret)\n",
    "\n",
    "\n",
    "\n",
    "print(datetime.datetime.now())\n",
    "our_tweets.hydrate()\n",
    "print(datetime.datetime.now())"
   ]
  },
  {
   "cell_type": "code",
   "execution_count": null,
   "id": "02a33f36",
   "metadata": {},
   "outputs": [],
   "source": []
  }
 ],
 "metadata": {
  "kernelspec": {
   "display_name": "Python 3 (ipykernel)",
   "language": "python",
   "name": "python3"
  },
  "language_info": {
   "codemirror_mode": {
    "name": "ipython",
    "version": 3
   },
   "file_extension": ".py",
   "mimetype": "text/x-python",
   "name": "python",
   "nbconvert_exporter": "python",
   "pygments_lexer": "ipython3",
   "version": "3.9.7"
  }
 },
 "nbformat": 4,
 "nbformat_minor": 5
}
