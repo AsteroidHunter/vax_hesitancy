{
 "cells": [
  {
   "cell_type": "code",
   "execution_count": 1,
   "id": "a487dca8",
   "metadata": {},
   "outputs": [],
   "source": [
    "import gzip\n",
    "import json\n",
    "import sys\n",
    "\n",
    "import tweepy"
   ]
  },
  {
   "cell_type": "code",
   "execution_count": 2,
   "id": "42bc1b8e",
   "metadata": {},
   "outputs": [],
   "source": [
    "# Data Taken from 2020-10-18-22 From Streaming Folder\n",
    "filename = 'data_testing/test_tweets.txt'\n",
    "f = open(filename, 'r')\n",
    "lines = f.readlines()\n",
    "f.close()\n",
    "\n",
    "ids = [int(line.strip('\\n')) for line in lines]\n",
    "\n",
    "consumer_key = 'API Key Here'\n",
    "consumer_secret = 'API Secret Here'\n",
    "\n",
    "auth = tweepy.AppAuthHandler(consumer_key, consumer_secret)\n",
    "api = tweepy.API(auth, retry_count=5, retry_delay=2, wait_on_rate_limit=True)#, wait_on_rate_limit_notify=True)"
   ]
  },
  {
   "cell_type": "code",
   "execution_count": 3,
   "id": "a4c4b555",
   "metadata": {},
   "outputs": [],
   "source": [
    "statuses = api.lookup_statuses(ids)\n"
   ]
  },
  {
   "cell_type": "code",
   "execution_count": 35,
   "id": "caaf3a93",
   "metadata": {},
   "outputs": [
    {
     "data": {
      "text/plain": [
       "1318062519462711296"
      ]
     },
     "execution_count": 35,
     "metadata": {},
     "output_type": "execute_result"
    }
   ],
   "source": [
    "json_str = json.dumps(statuses[0]._json, indent = 2)\n",
    "data = json.loads(json_str)\n",
    "data['text']\n",
    "\n"
   ]
  },
  {
   "cell_type": "code",
   "execution_count": 34,
   "id": "00e9d2ae",
   "metadata": {},
   "outputs": [
    {
     "ename": "IndexError",
     "evalue": "list index out of range",
     "output_type": "error",
     "traceback": [
      "\u001b[1;31m---------------------------------------------------------------------------\u001b[0m",
      "\u001b[1;31mIndexError\u001b[0m                                Traceback (most recent call last)",
      "\u001b[1;32m~\\AppData\\Local\\Temp/ipykernel_19904/158887948.py\u001b[0m in \u001b[0;36m<module>\u001b[1;34m\u001b[0m\n\u001b[1;32m----> 1\u001b[1;33m \u001b[0mstatuses\u001b[0m\u001b[1;33m.\u001b[0m\u001b[0m__getitem__\u001b[0m\u001b[1;33m(\u001b[0m\u001b[1;36m1\u001b[0m\u001b[1;33m)\u001b[0m\u001b[1;33m\u001b[0m\u001b[1;33m\u001b[0m\u001b[0m\n\u001b[0m",
      "\u001b[1;31mIndexError\u001b[0m: list index out of range"
     ]
    }
   ],
   "source": []
  },
  {
   "cell_type": "code",
   "execution_count": null,
   "id": "fed72f17",
   "metadata": {},
   "outputs": [],
   "source": []
  }
 ],
 "metadata": {
  "kernelspec": {
   "display_name": "Python 3 (ipykernel)",
   "language": "python",
   "name": "python3"
  },
  "language_info": {
   "codemirror_mode": {
    "name": "ipython",
    "version": 3
   },
   "file_extension": ".py",
   "mimetype": "text/x-python",
   "name": "python",
   "nbconvert_exporter": "python",
   "pygments_lexer": "ipython3",
   "version": "3.9.7"
  }
 },
 "nbformat": 4,
 "nbformat_minor": 5
}
