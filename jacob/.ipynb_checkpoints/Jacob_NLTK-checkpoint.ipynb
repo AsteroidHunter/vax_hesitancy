{
 "cells": [
  {
   "cell_type": "code",
   "execution_count": 2,
   "id": "ccc564e1",
   "metadata": {},
   "outputs": [],
   "source": [
    "import nltk as nltk\n",
    "import numpy as np\n",
    "import matplotlib.pyplot as plt\n",
    "import pandas as pd"
   ]
  },
  {
   "cell_type": "code",
   "execution_count": 4,
   "id": "88ada25a",
   "metadata": {},
   "outputs": [],
   "source": [
    "from nltk.corpus import stopwords\n",
    "from nltk.tokenize import word_tokenize"
   ]
  },
  {
   "cell_type": "code",
   "execution_count": 9,
   "id": "bf1a45a5",
   "metadata": {},
   "outputs": [
    {
     "name": "stdout",
     "output_type": "stream",
     "text": [
      "[['Within', 'weeks', 'Australia', 'will', 'be', 'signed', 'up', 'to', 'a', 'World', 'Health', 'Organization', 'binding', 'treaty', 'that', 'will', 'hand', 'all', 'authority', 'of', 'future', 'pandemic', 'management', 'over', 'to', 'the', 'WHO', '.'], ['They', 'will', 'have', 'absolute', 'authority', 'over', 'your', 'life', ',', 'including', 'mandatory', '/', 'forced', 'medication', '&', 'camps', '.'], ['#Auspol', '#Plandemic']]\n"
     ]
    }
   ],
   "source": [
    "# Sample text and showing sentences\n",
    "# https://twitter.com/MediaSequitur/status/1513815410701127680\n",
    "\n",
    "textsample = \"\"\"Within weeks Australia will be signed up to a World Health Organization binding treaty that will hand all authority of future pandemic management over to the WHO. They will have absolute authority over your life, including mandatory/forced medication & camps.\n",
    "\n",
    "#Auspol #Plandemic\"\"\"\n",
    "\n",
    "from nltk.tokenize import TweetTokenizer, sent_tokenize\n",
    "\n",
    "tokenizer_words = TweetTokenizer()\n",
    "tokens_sentences = [tokenizer_words.tokenize(t) for t in \n",
    "nltk.sent_tokenize(textsample)]\n",
    "print(tokens_sentences)"
   ]
  },
  {
   "cell_type": "code",
   "execution_count": 15,
   "id": "b2bec020",
   "metadata": {},
   "outputs": [],
   "source": [
    "# Getting relevant words\n",
    "words_in_tweet = TweetTokenizer().tokenize(textsample)\n",
    "\n",
    "stop_words = set(stopwords.words(\"english\"))\n",
    "\n",
    "filtered_list = [word for word in words_in_tweet if word.casefold() not in stop_words]"
   ]
  },
  {
   "cell_type": "code",
   "execution_count": 23,
   "id": "690d6fcf",
   "metadata": {},
   "outputs": [
    {
     "data": {
      "text/plain": [
       "[('Within', 'IN'),\n",
       " ('weeks', 'NNS'),\n",
       " ('Australia', 'NNP'),\n",
       " ('signed', 'VBD'),\n",
       " ('World', 'NNP'),\n",
       " ('Health', 'NNP'),\n",
       " ('Organization', 'NNP'),\n",
       " ('binding', 'VBG'),\n",
       " ('treaty', 'NN'),\n",
       " ('hand', 'NN'),\n",
       " ('authority', 'NN'),\n",
       " ('future', 'NN'),\n",
       " ('pandemic', 'JJ'),\n",
       " ('management', 'NN'),\n",
       " ('.', '.'),\n",
       " ('absolute', 'VB'),\n",
       " ('authority', 'NN'),\n",
       " ('life', 'NN'),\n",
       " (',', ','),\n",
       " ('including', 'VBG'),\n",
       " ('mandatory', 'JJ'),\n",
       " ('/', 'RB'),\n",
       " ('forced', 'VBN'),\n",
       " ('medication', 'NN'),\n",
       " ('&', 'CC'),\n",
       " ('camps', 'NNS'),\n",
       " ('.', '.'),\n",
       " ('#Auspol', 'VB'),\n",
       " ('#Plandemic', 'JJ')]"
      ]
     },
     "execution_count": 23,
     "metadata": {},
     "output_type": "execute_result"
    }
   ],
   "source": [
    "# POS\n",
    "nltk.pos_tag(filtered_list)"
   ]
  },
  {
   "cell_type": "code",
   "execution_count": 27,
   "id": "de4b6bfb",
   "metadata": {},
   "outputs": [
    {
     "data": {
      "text/plain": [
       "['Within',\n",
       " 'week',\n",
       " 'Australia',\n",
       " 'signed',\n",
       " 'World',\n",
       " 'Health',\n",
       " 'Organization',\n",
       " 'binding',\n",
       " 'treaty',\n",
       " 'hand',\n",
       " 'authority',\n",
       " 'future',\n",
       " 'pandemic',\n",
       " 'management',\n",
       " '.',\n",
       " 'absolute',\n",
       " 'authority',\n",
       " 'life',\n",
       " ',',\n",
       " 'including',\n",
       " 'mandatory',\n",
       " '/',\n",
       " 'forced',\n",
       " 'medication',\n",
       " '&',\n",
       " 'camp',\n",
       " '.',\n",
       " '#Auspol',\n",
       " '#Plandemic']"
      ]
     },
     "execution_count": 27,
     "metadata": {},
     "output_type": "execute_result"
    }
   ],
   "source": [
    "# Lemmatizing for sentiment\n",
    "from nltk.stem import WordNetLemmatizer\n",
    "\n",
    "lemmatizer = WordNetLemmatizer()\n",
    "lemmatized_words = [lemmatizer.lemmatize(word) for word in filtered_list]\n",
    "\n",
    "lemmatized_words"
   ]
  },
  {
   "cell_type": "code",
   "execution_count": 26,
   "id": "d9561c9c",
   "metadata": {},
   "outputs": [],
   "source": [
    "# May want to look into concordance and dispersion/frequency plots"
   ]
  },
  {
   "cell_type": "code",
   "execution_count": 25,
   "id": "d1af2042",
   "metadata": {},
   "outputs": [
    {
     "name": "stderr",
     "output_type": "stream",
     "text": [
      "[nltk_data] Downloading package wordnet to\n",
      "[nltk_data]     C:\\Users\\Jacob\\AppData\\Roaming\\nltk_data...\n",
      "[nltk_data]   Unzipping corpora\\wordnet.zip.\n"
     ]
    },
    {
     "data": {
      "text/plain": [
       "True"
      ]
     },
     "execution_count": 25,
     "metadata": {},
     "output_type": "execute_result"
    }
   ],
   "source": []
  },
  {
   "cell_type": "code",
   "execution_count": null,
   "id": "3cb5f5a5",
   "metadata": {},
   "outputs": [],
   "source": []
  }
 ],
 "metadata": {
  "kernelspec": {
   "display_name": "Python 3 (ipykernel)",
   "language": "python",
   "name": "python3"
  },
  "language_info": {
   "codemirror_mode": {
    "name": "ipython",
    "version": 3
   },
   "file_extension": ".py",
   "mimetype": "text/x-python",
   "name": "python",
   "nbconvert_exporter": "python",
   "pygments_lexer": "ipython3",
   "version": "3.9.7"
  }
 },
 "nbformat": 4,
 "nbformat_minor": 5
}
