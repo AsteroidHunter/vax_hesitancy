{
 "cells": [
  {
   "cell_type": "code",
   "execution_count": 28,
   "id": "a487dca8",
   "metadata": {},
   "outputs": [],
   "source": [
    "import gzip\n",
    "import json\n",
    "import sys\n",
    "import pandas as pd\n",
    "\n",
    "import tweepy"
   ]
  },
  {
   "cell_type": "code",
   "execution_count": 3,
   "id": "42bc1b8e",
   "metadata": {},
   "outputs": [],
   "source": [
    "# Data Taken from 2020-10-18-22 From Streaming Folder\n",
    "filename = 'data_testing/test_tweets.txt'\n",
    "f = open(filename, 'r')\n",
    "lines = f.readlines()\n",
    "f.close()\n",
    "\n",
    "# Grab each id from file\n",
    "ids = [int(line.strip('\\n')) for line in lines]\n",
    "\n",
    "consumer_key = 'API Key Here'\n",
    "consumer_secret = 'API Secret Here'\n",
    "\n",
    "auth = tweepy.AppAuthHandler(consumer_key, consumer_secret)\n",
    "api = tweepy.API(auth, retry_count=5, retry_delay=2, wait_on_rate_limit=True) #, wait_on_rate_limit_notify=True)"
   ]
  },
  {
   "cell_type": "code",
   "execution_count": 4,
   "id": "a4c4b555",
   "metadata": {},
   "outputs": [],
   "source": [
    "# Grab tweets\n",
    "statuses = api.lookup_statuses(ids, tweet_mode='extended')"
   ]
  },
  {
   "cell_type": "code",
   "execution_count": 45,
   "id": "00e9d2ae",
   "metadata": {},
   "outputs": [],
   "source": [
    "#Write to nicely formatted .json\n",
    "with open('data_testing/data.json', 'w', encoding='utf-8') as f:\n",
    "    for status in statuses:\n",
    "        json.dump(status._json, f, indent = 4, ensure_ascii = False)"
   ]
  },
  {
   "cell_type": "code",
   "execution_count": 24,
   "id": "fed72f17",
   "metadata": {},
   "outputs": [
    {
     "data": {
      "text/plain": [
       "0.13793103448275862"
      ]
     },
     "execution_count": 24,
     "metadata": {},
     "output_type": "execute_result"
    }
   ],
   "source": [
    "survival_rate = len(statuses)/len(ids)\n",
    "survival_rate"
   ]
  },
  {
   "cell_type": "code",
   "execution_count": 46,
   "id": "48373224",
   "metadata": {},
   "outputs": [],
   "source": [
    "# Try one line in a text file per tweet\n",
    "with open('data_testing/testing.txt', 'w') as f:\n",
    "    for status in statuses:\n",
    "        json_str = json.dumps(status._json)\n",
    "        f.write(json_str +'\\n')\n",
    "f.close()"
   ]
  },
  {
   "cell_type": "code",
   "execution_count": 31,
   "id": "729bbb03",
   "metadata": {},
   "outputs": [],
   "source": [
    "# Time for one month of 15,000 tweets\n",
    "df = pd.read_csv('data_testing/tweet_ids_15k.csv')"
   ]
  },
  {
   "cell_type": "code",
   "execution_count": 42,
   "id": "910533a5",
   "metadata": {},
   "outputs": [
    {
     "data": {
      "text/plain": [
       "100"
      ]
     },
     "execution_count": 42,
     "metadata": {},
     "output_type": "execute_result"
    }
   ],
   "source": [
    "oct_tweets = list(df['2020_10'])[0:100]\n",
    "len(oct_tweets)"
   ]
  },
  {
   "cell_type": "code",
   "execution_count": 43,
   "id": "580ff4dc",
   "metadata": {},
   "outputs": [],
   "source": [
    "statuses = api.lookup_statuses(oct_tweets, tweet_mode='extended')"
   ]
  },
  {
   "cell_type": "code",
   "execution_count": 44,
   "id": "f05db802",
   "metadata": {},
   "outputs": [
    {
     "data": {
      "text/plain": [
       "28"
      ]
     },
     "execution_count": 44,
     "metadata": {},
     "output_type": "execute_result"
    }
   ],
   "source": []
  },
  {
   "cell_type": "code",
   "execution_count": null,
   "id": "bf86e67f",
   "metadata": {},
   "outputs": [],
   "source": []
  }
 ],
 "metadata": {
  "kernelspec": {
   "display_name": "Python 3 (ipykernel)",
   "language": "python",
   "name": "python3"
  },
  "language_info": {
   "codemirror_mode": {
    "name": "ipython",
    "version": 3
   },
   "file_extension": ".py",
   "mimetype": "text/x-python",
   "name": "python",
   "nbconvert_exporter": "python",
   "pygments_lexer": "ipython3",
   "version": "3.9.7"
  }
 },
 "nbformat": 4,
 "nbformat_minor": 5
}
