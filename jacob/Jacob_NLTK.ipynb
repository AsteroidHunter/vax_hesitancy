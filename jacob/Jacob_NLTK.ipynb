{
 "cells": [
  {
   "cell_type": "code",
   "execution_count": 1,
   "id": "ccc564e1",
   "metadata": {},
   "outputs": [],
   "source": [
    "import nltk as nltk\n",
    "import numpy as np\n",
    "import matplotlib.pyplot as plt\n",
    "import pandas as pd"
   ]
  },
  {
   "cell_type": "code",
   "execution_count": 2,
   "id": "88ada25a",
   "metadata": {},
   "outputs": [],
   "source": [
    "from nltk.corpus import stopwords\n",
    "from nltk.tokenize import word_tokenize"
   ]
  },
  {
   "cell_type": "code",
   "execution_count": 3,
   "id": "17e0985a",
   "metadata": {},
   "outputs": [
    {
     "name": "stdout",
     "output_type": "stream",
     "text": [
      "[[\"'\", 'RT', '@NeedsMother', ':', 'HAPPENING', '👇', 'AGAIN', 'RIGHT', 'NOW', 'ALLL', 'BASED', 'OFF', 'BLM', 'LIES', 'TAKING', 'OUR', 'BEAUTIFUL', 'PRECIOUS', 'MUSTANGS', 'AWAY', 'TAKING', 'OUR', 'SWEET', 'BURROS', 'TOO', '…', \"'\"]]\n"
     ]
    }
   ],
   "source": [
    "# Sample text and showing sentences\n",
    "# https://twitter.com/MediaSequitur/status/1513815410701127680\n",
    "\n",
    "textsample = \"\"\"'RT @NeedsMother: HAPPENING👇AGAIN RIGHT NOW\\nALLL BASED OFF BLM LIES TAKING OUR BEAUTIFUL PRECIOUS MUSTANGS AWAY\\nTAKING OUR SWEET BURROS TOO…'\"\"\"\n",
    "\n",
    "from nltk.tokenize import TweetTokenizer, sent_tokenize\n",
    "\n",
    "tokenizer_words = TweetTokenizer()\n",
    "tokens_sentences = [tokenizer_words.tokenize(t) for t in \n",
    "nltk.sent_tokenize(textsample)]\n",
    "print(tokens_sentences)"
   ]
  },
  {
   "cell_type": "code",
   "execution_count": 4,
   "id": "963ef743",
   "metadata": {},
   "outputs": [],
   "source": [
    "# Getting relevant words\n",
    "words_in_tweet = TweetTokenizer().tokenize(textsample)\n",
    "\n",
    "stop_words = set(stopwords.words(\"english\"))\n",
    "\n",
    "filtered_list = [word for word in words_in_tweet if word.casefold() not in stop_words]"
   ]
  },
  {
   "cell_type": "code",
   "execution_count": 5,
   "id": "6142c169",
   "metadata": {},
   "outputs": [
    {
     "data": {
      "text/plain": [
       "[(\"'\", 'POS'),\n",
       " ('RT', 'NNP'),\n",
       " ('@NeedsMother', 'NN'),\n",
       " (':', ':'),\n",
       " ('HAPPENING', 'NN'),\n",
       " ('👇', 'NN'),\n",
       " ('RIGHT', 'NNP'),\n",
       " ('ALLL', 'NNP'),\n",
       " ('BASED', 'NNP'),\n",
       " ('BLM', 'NNP'),\n",
       " ('LIES', 'NNP'),\n",
       " ('TAKING', 'NNP'),\n",
       " ('BEAUTIFUL', 'NNP'),\n",
       " ('PRECIOUS', 'NNP'),\n",
       " ('MUSTANGS', 'NNP'),\n",
       " ('AWAY', 'NNP'),\n",
       " ('TAKING', 'NNP'),\n",
       " ('SWEET', 'NNP'),\n",
       " ('BURROS', 'NNP'),\n",
       " ('…', 'NNP'),\n",
       " (\"'\", 'POS')]"
      ]
     },
     "execution_count": 5,
     "metadata": {},
     "output_type": "execute_result"
    }
   ],
   "source": [
    "# POS\n",
    "nltk.pos_tag(filtered_list)"
   ]
  },
  {
   "cell_type": "code",
   "execution_count": 6,
   "id": "49c3607e",
   "metadata": {},
   "outputs": [
    {
     "data": {
      "text/plain": [
       "[\"'\",\n",
       " 'RT',\n",
       " '@NeedsMother',\n",
       " ':',\n",
       " 'HAPPENING',\n",
       " '👇',\n",
       " 'RIGHT',\n",
       " 'ALLL',\n",
       " 'BASED',\n",
       " 'BLM',\n",
       " 'LIES',\n",
       " 'TAKING',\n",
       " 'BEAUTIFUL',\n",
       " 'PRECIOUS',\n",
       " 'MUSTANGS',\n",
       " 'AWAY',\n",
       " 'TAKING',\n",
       " 'SWEET',\n",
       " 'BURROS',\n",
       " '…',\n",
       " \"'\"]"
      ]
     },
     "execution_count": 6,
     "metadata": {},
     "output_type": "execute_result"
    }
   ],
   "source": [
    "# Lemmatizing for sentiment\n",
    "from nltk.stem import WordNetLemmatizer\n",
    "\n",
    "lemmatizer = WordNetLemmatizer()\n",
    "lemmatized_words = [lemmatizer.lemmatize(word) for word in filtered_list]\n",
    "\n",
    "lemmatized_words"
   ]
  },
  {
   "cell_type": "code",
   "execution_count": 26,
   "id": "e1be4ad9",
   "metadata": {},
   "outputs": [],
   "source": [
    "# May want to look into concordance and dispersion/frequency plots"
   ]
  },
  {
   "cell_type": "code",
   "execution_count": 9,
   "id": "104b26ab",
   "metadata": {},
   "outputs": [
    {
     "data": {
      "text/plain": [
       "{'neg': 0.106, 'neu': 0.51, 'pos': 0.384, 'compound': 0.8825}"
      ]
     },
     "execution_count": 9,
     "metadata": {},
     "output_type": "execute_result"
    }
   ],
   "source": [
    "from nltk.sentiment import SentimentIntensityAnalyzer\n",
    "\n",
    "sia = SentimentIntensityAnalyzer()\n",
    "sia.polarity_scores(textsample)"
   ]
  },
  {
   "cell_type": "code",
   "execution_count": 8,
   "id": "15abc4ed",
   "metadata": {},
   "outputs": [
    {
     "name": "stderr",
     "output_type": "stream",
     "text": [
      "[nltk_data] Downloading package vader_lexicon to\n",
      "[nltk_data]     C:\\Users\\Jacob\\AppData\\Roaming\\nltk_data...\n"
     ]
    },
    {
     "data": {
      "text/plain": [
       "True"
      ]
     },
     "execution_count": 8,
     "metadata": {},
     "output_type": "execute_result"
    }
   ],
   "source": []
  },
  {
   "cell_type": "code",
   "execution_count": null,
   "id": "30caebac",
   "metadata": {},
   "outputs": [],
   "source": []
  }
 ],
 "metadata": {
  "kernelspec": {
   "display_name": "Python 3 (ipykernel)",
   "language": "python",
   "name": "python3"
  },
  "language_info": {
   "codemirror_mode": {
    "name": "ipython",
    "version": 3
   },
   "file_extension": ".py",
   "mimetype": "text/x-python",
   "name": "python",
   "nbconvert_exporter": "python",
   "pygments_lexer": "ipython3",
   "version": "3.9.7"
  }
 },
 "nbformat": 4,
 "nbformat_minor": 5
}
