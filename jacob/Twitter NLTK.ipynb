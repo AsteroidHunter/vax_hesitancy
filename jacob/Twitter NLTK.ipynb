{
 "cells": [
  {
   "cell_type": "code",
   "execution_count": 78,
   "id": "030e69bd",
   "metadata": {},
   "outputs": [],
   "source": [
    "import nltk as nltk\n",
    "import numpy as np\n",
    "import matplotlib.pyplot as plt\n",
    "import pandas as pd\n",
    "\n",
    "from nltk.corpus import stopwords\n",
    "from nltk.tokenize import word_tokenize\n",
    "from nltk.tokenize import TweetTokenizer, sent_tokenize\n",
    "\n",
    "from nltk.sentiment import SentimentIntensityAnalyzer"
   ]
  },
  {
   "cell_type": "code",
   "execution_count": 79,
   "id": "b6232a60",
   "metadata": {},
   "outputs": [],
   "source": [
    "df = pd.read_csv('master_utf8.csv')\n",
    "stop_words = set(stopwords.words(\"english\"))\n",
    "sia = SentimentIntensityAnalyzer()\n",
    "\n",
    "df['vader'] = np.nan"
   ]
  },
  {
   "cell_type": "code",
   "execution_count": 80,
   "id": "f91f269c",
   "metadata": {},
   "outputs": [],
   "source": [
    "for i in range(len(df)):\n",
    "    if not df['full_text'][i].startswith('RT'):\n",
    "        text = df['full_text'][i]\n",
    "        words_in_tweet = TweetTokenizer().tokenize(text)\n",
    "        filtered_list = [word for word in words_in_tweet if word.casefold() not in stop_words]\n",
    "        df.at[i, 'vader'] = sia.polarity_scores(text)['compound']\n",
    "#    else:\n",
    "#        text = df['rt_full_text'][i]\n",
    "#        words_in_tweet = TweetTokenizer().tokenize(text)\n",
    "#        filtered_list = [word for word in words_in_tweet if word.casefold() not in stop_words]\n",
    "#        df.at[i, 'vader'] = sia.polarity_scores(text)['compound']"
   ]
  },
  {
   "cell_type": "code",
   "execution_count": 84,
   "id": "98ade0a5",
   "metadata": {},
   "outputs": [
    {
     "data": {
      "text/plain": [
       "(array([ 2129.,  3338.,  3769.,  3290.,  1893., 14869.,  3078.,  3857.,\n",
       "         3185.,  1631.]),\n",
       " array([-0.9991 , -0.80105, -0.603  , -0.40495, -0.2069 , -0.00885,\n",
       "         0.1892 ,  0.38725,  0.5853 ,  0.78335,  0.9814 ]),\n",
       " <BarContainer object of 10 artists>)"
      ]
     },
     "execution_count": 84,
     "metadata": {},
     "output_type": "execute_result"
    },
    {
     "data": {
      "image/png": "[encoded data removed]",
      "text/plain": [
       "<Figure size 432x288 with 1 Axes>"
      ]
     },
     "metadata": {
      "needs_background": "light"
     },
     "output_type": "display_data"
    }
   ],
   "source": [
    "vaderdata = df['vader'].dropna()\n",
    "\n",
    "plt.hist(vaderdata)"
   ]
  },
  {
   "cell_type": "code",
   "execution_count": 87,
   "id": "ae44b7e7",
   "metadata": {},
   "outputs": [],
   "source": [
    "df.to_csv('final_vader.csv')"
   ]
  },
  {
   "cell_type": "code",
   "execution_count": 124,
   "id": "d82a2cd5",
   "metadata": {},
   "outputs": [],
   "source": [
    "model_data = df.dropna(subset = ['vader'])"
   ]
  },
  {
   "cell_type": "code",
   "execution_count": 128,
   "id": "17670368",
   "metadata": {},
   "outputs": [],
   "source": [
    "model_datayear_age = model_data['year_created'] - model_data['user_year_created']\n",
    "model_data.insert(len(model_data.columns) - 1, \"year_age\", model_datayear_age)"
   ]
  },
  {
   "cell_type": "code",
   "execution_count": 130,
   "id": "67d28669",
   "metadata": {},
   "outputs": [],
   "source": []
  },
  {
   "cell_type": "code",
   "execution_count": 146,
   "id": "729eeac0",
   "metadata": {},
   "outputs": [],
   "source": [
    "from sklearn import linear_model\n",
    "\n",
    "x = model_data['retweet_count'].values\n",
    "x = x.reshape(-1, 1)\n",
    "y = model_data['vader'].values"
   ]
  },
  {
   "cell_type": "code",
   "execution_count": 147,
   "id": "fc7c54c1",
   "metadata": {},
   "outputs": [
    {
     "data": {
      "image/png": "[encoded data removed]",
      "text/plain": [
       "<Figure size 432x288 with 1 Axes>"
      ]
     },
     "metadata": {},
     "output_type": "display_data"
    }
   ],
   "source": [
    "regr = linear_model.LinearRegression()\n",
    "regr.fit(x, y)\n",
    "\n",
    "# plot it as in the example at http://scikit-learn.org/\n",
    "plt.scatter(x, y,  color='black')\n",
    "plt.plot(x, regr.predict(x), color='blue', linewidth=3)\n",
    "plt.xticks(())\n",
    "plt.yticks(())\n",
    "plt.show()"
   ]
  },
  {
   "cell_type": "code",
   "execution_count": 148,
   "id": "6e0d07ba",
   "metadata": {},
   "outputs": [
    {
     "data": {
      "text/plain": [
       "4.214853046213829e-05"
      ]
     },
     "execution_count": 148,
     "metadata": {},
     "output_type": "execute_result"
    }
   ],
   "source": [
    "regr.score(x, y)"
   ]
  },
  {
   "cell_type": "code",
   "execution_count": 142,
   "id": "a8b30ca6",
   "metadata": {},
   "outputs": [
    {
     "data": {
      "text/plain": [
       "Index(['Unnamed: 0', 'created_at', 'id_str', 'full_text', 'retweet_count',\n",
       "       'favorite_count', 'beginning_text', 'end_text', 'type', 'latitude',\n",
       "       'longitude', 'HT_1', 'HT_2', 'HT_3', 'HT_4', 'HT_5', 'HT_6', 'HT_7',\n",
       "       'HT_8', 'HT_9', 'HT_10', 'HT_11', 'HT_12', 'HT_13', 'HT_14', 'HT_15',\n",
       "       'HT_16', 'HT_17', 'HT_18', 'HT_19', 'HT_20', 'HT_21', 'HT_22', 'HT_23',\n",
       "       'HT_24', 'HT_25', 'HT_26', 'HT_27', 'HT_28', 'Nb. of tags',\n",
       "       'user_id_str', 'user_name', 'user_screen_name', 'user_location',\n",
       "       'user_description', 'user_verified', 'user_created_at',\n",
       "       'user_followers_count', 'user_favourites_count', 'user_default_profile',\n",
       "       'user_default_profile_image', 'rt_id_str', 'rt_full_text',\n",
       "       'rt_retweet_count', 'rt_favourite_count', 'rt_retweet_count.1',\n",
       "       'rt_favorite_count', 'rtuser_id', 'rtuser_location', 'year_created',\n",
       "       'user_year_created', 'month_created', 'user_month_created',\n",
       "       'day_created', 'user_day_created', 'time_created', 'user_time_created',\n",
       "       'year_age', 'vader'],\n",
       "      dtype='object')"
      ]
     },
     "execution_count": 142,
     "metadata": {},
     "output_type": "execute_result"
    }
   ],
   "source": [
    "model_data.columns"
   ]
  },
  {
   "cell_type": "code",
   "execution_count": null,
   "id": "a3587bb8",
   "metadata": {},
   "outputs": [],
   "source": []
  }
 ],
 "metadata": {
  "kernelspec": {
   "display_name": "Python 3 (ipykernel)",
   "language": "python",
   "name": "python3"
  },
  "language_info": {
   "codemirror_mode": {
    "name": "ipython",
    "version": 3
   },
   "file_extension": ".py",
   "mimetype": "text/x-python",
   "name": "python",
   "nbconvert_exporter": "python",
   "pygments_lexer": "ipython3",
   "version": "3.9.7"
  }
 },
 "nbformat": 4,
 "nbformat_minor": 5
}
