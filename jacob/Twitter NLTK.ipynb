{
 "cells": [
  {
   "cell_type": "code",
   "execution_count": 78,
   "id": "030e69bd",
   "metadata": {},
   "outputs": [],
   "source": [
    "import nltk as nltk\n",
    "import numpy as np\n",
    "import matplotlib.pyplot as plt\n",
    "import pandas as pd\n",
    "\n",
    "from nltk.corpus import stopwords\n",
    "from nltk.tokenize import word_tokenize\n",
    "from nltk.tokenize import TweetTokenizer, sent_tokenize\n",
    "\n",
    "from nltk.sentiment import SentimentIntensityAnalyzer"
   ]
  },
  {
   "cell_type": "code",
   "execution_count": 79,
   "id": "b6232a60",
   "metadata": {},
   "outputs": [],
   "source": [
    "df = pd.read_csv('master_utf8.csv')\n",
    "stop_words = set(stopwords.words(\"english\"))\n",
    "sia = SentimentIntensityAnalyzer()\n",
    "\n",
    "df['vader'] = np.nan"
   ]
  },
  {
   "cell_type": "code",
   "execution_count": 80,
   "id": "68a9215e",
   "metadata": {},
   "outputs": [],
   "source": [
    "for i in range(len(df)):\n",
    "    if not df['full_text'][i].startswith('RT'):\n",
    "        text = df['full_text'][i]\n",
    "        words_in_tweet = TweetTokenizer().tokenize(text)\n",
    "        filtered_list = [word for word in words_in_tweet if word.casefold() not in stop_words]\n",
    "        df.at[i, 'vader'] = sia.polarity_scores(text)['compound']\n",
    "#    else:\n",
    "#        text = df['rt_full_text'][i]\n",
    "#        words_in_tweet = TweetTokenizer().tokenize(text)\n",
    "#        filtered_list = [word for word in words_in_tweet if word.casefold() not in stop_words]\n",
    "#        df.at[i, 'vader'] = sia.polarity_scores(text)['compound']"
   ]
  },
  {
   "cell_type": "code",
   "execution_count": 84,
   "id": "d38fa792",
   "metadata": {},
   "outputs": [
    {
     "data": {
      "text/plain": [
       "(array([ 2129.,  3338.,  3769.,  3290.,  1893., 14869.,  3078.,  3857.,\n",
       "         3185.,  1631.]),\n",
       " array([-0.9991 , -0.80105, -0.603  , -0.40495, -0.2069 , -0.00885,\n",
       "         0.1892 ,  0.38725,  0.5853 ,  0.78335,  0.9814 ]),\n",
       " <BarContainer object of 10 artists>)"
      ]
     },
     "execution_count": 84,
     "metadata": {},
     "output_type": "execute_result"
    },
    {
     "data": {
      "image/png": "[encoded data removed]",
      "text/plain": [
       "<Figure size 432x288 with 1 Axes>"
      ]
     },
     "metadata": {
      "needs_background": "light"
     },
     "output_type": "display_data"
    }
   ],
   "source": [
    "vaderdata = df['vader'].dropna()\n",
    "\n",
    "plt.hist(vaderdata)"
   ]
  },
  {
   "cell_type": "code",
   "execution_count": 87,
   "id": "e70df5a8",
   "metadata": {},
   "outputs": [],
   "source": [
    "df.to_csv('final_vader.csv')"
   ]
  },
  {
   "cell_type": "code",
   "execution_count": null,
   "id": "e7b94f91",
   "metadata": {},
   "outputs": [],
   "source": []
  }
 ],
 "metadata": {
  "kernelspec": {
   "display_name": "Python 3 (ipykernel)",
   "language": "python",
   "name": "python3"
  },
  "language_info": {
   "codemirror_mode": {
    "name": "ipython",
    "version": 3
   },
   "file_extension": ".py",
   "mimetype": "text/x-python",
   "name": "python",
   "nbconvert_exporter": "python",
   "pygments_lexer": "ipython3",
   "version": "3.9.7"
  }
 },
 "nbformat": 4,
 "nbformat_minor": 5
}
