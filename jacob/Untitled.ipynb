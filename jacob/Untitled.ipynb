{
 "cells": [
  {
   "cell_type": "code",
   "execution_count": 1,
   "id": "030e69bd",
   "metadata": {},
   "outputs": [],
   "source": [
    "import gzip\n",
    "import json\n",
    "import sys\n",
    "\n",
    "from tqdm import tqdm\n",
    "from twarc import Twarc\n",
    "from pathlib import Path"
   ]
  },
  {
   "cell_type": "code",
   "execution_count": null,
   "id": "b6232a60",
   "metadata": {},
   "outputs": [],
   "source": [
    "twarc = Twarc()\n",
    "data_dirs = ['data_testing']\n",
    "\n",
    "\n",
    "def main():\n",
    "  if len(sys.argv) != 2 or sys.argv[1] not in ['-streaming', '-account']:\n",
    "    print(\"Usage: hydrate.py -streaming or hydrate.py -account\")\n",
    "    exit(1)\n",
    "  prefix = 'streaming-tweetids/' if sys.argv[1] == '-streaming' else 'account-tweetids/'\n",
    "  \n",
    "  if prefix == 'streaming-tweetids/':\n",
    "    for data_dir in data_dirs:\n",
    "      for path in Path(prefix+data_dir).iterdir():\n",
    "          if path.name.endswith('.txt'):\n",
    "              hydrate(path)\n",
    "  else:\n",
    "    for path in Path(prefix).iterdir():\n",
    "      if path.name.endswith('.txt'):\n",
    "        hydrate(path)\n",
    "\n",
    "def _reader_generator(reader):\n",
    "  b = reader(1024 * 1024)\n",
    "  while b:\n",
    "      yield b\n",
    "      b = reader(1024 * 1024)\n",
    "\n",
    "\n",
    "def raw_newline_count(fname):\n",
    "  \"\"\"\n",
    "  Counts number of lines in file\n",
    "  \"\"\"\n",
    "  f = open(fname, 'rb')\n",
    "  f_gen = _reader_generator(f.raw.read)\n",
    "  return sum(buf.count(b'\\n') for buf in f_gen)\n",
    "\n",
    "\n",
    "def hydrate(id_file):\n",
    "  print('hydrating {}'.format(id_file))\n",
    "\n",
    "  gzip_path = id_file.with_suffix('.jsonl.gz')\n",
    "  if gzip_path.is_file():\n",
    "      print('skipping json file already exists: {}'.format(gzip_path))\n",
    "      return\n",
    "\n",
    "  num_ids = raw_newline_count(id_file)\n",
    "\n",
    "  with gzip.open(gzip_path, 'w') as output:\n",
    "      with tqdm(total=num_ids) as pbar:\n",
    "          for tweet in twarc.hydrate(id_file.open()):\n",
    "              output.write(json.dumps(tweet).encode('utf8') + b\"\\n\")\n",
    "              pbar.update(1)"
   ]
  }
 ],
 "metadata": {
  "kernelspec": {
   "display_name": "Python 3 (ipykernel)",
   "language": "python",
   "name": "python3"
  },
  "language_info": {
   "codemirror_mode": {
    "name": "ipython",
    "version": 3
   },
   "file_extension": ".py",
   "mimetype": "text/x-python",
   "name": "python",
   "nbconvert_exporter": "python",
   "pygments_lexer": "ipython3",
   "version": "3.9.7"
  }
 },
 "nbformat": 4,
 "nbformat_minor": 5
}
